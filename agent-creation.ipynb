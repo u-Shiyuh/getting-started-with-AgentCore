{
 "cells": [
  {
   "cell_type": "markdown",
   "id": "446588d3",
   "metadata": {},
   "source": [
    "# Deploying `langgraph_bedrock.py` to AWS\n",
    "\n",
    "This notebook demonstrates how to deploy `langgraph_bedrock.py` to AWS. \n",
    "\n",
    "It will build the Docker image and deploy it to your AWS environment.\n",
    "\n",
    "For more samples and advanced capabilities, check out the AWS-provided repository:  \n",
    "[Amazon Bedrock AgentCore Samples](https://github.com/awslabs/amazon-bedrock-agentcore-samples/)\n"
   ]
  },
  {
   "cell_type": "code",
   "execution_count": null,
   "id": "44179a4a",
   "metadata": {},
   "outputs": [],
   "source": [
    "import os\n",
    "from bedrock_agentcore_starter_toolkit import Runtime\n",
    "\n",
    "# 1. Clear any old AWS credentials. There are times I'm having access issues due to expired creds, so by default i clear it as a best practice.\n",
    "os.environ.pop(\"AWS_ACCESS_KEY_ID\", None)\n",
    "os.environ.pop(\"AWS_SECRET_ACCESS_KEY\", None)\n",
    "os.environ.pop(\"AWS_SESSION_TOKEN\", None)\n",
    "\n",
    "# 2. Set your SSO profile, here I'm utilizing aws sso login\n",
    "os.environ[\"AWS_PROFILE\"] = \"sandbox\"  \n",
    "\n",
    "\n",
    "# 4. Initialize Runtime\n",
    "agentcore_runtime = Runtime()\n",
    "\n",
    "# 5. Configure the agent\n",
    "agent_name = \"ticker_checker_agent\"\n",
    "response = agentcore_runtime.configure(\n",
    "    entrypoint=\"langgraph_bedrock.py\", \n",
    "    auto_create_execution_role=True,\n",
    "    auto_create_ecr=True,\n",
    "    requirements_file=\"requirements.txt\",\n",
    "    region=\"us-east-1\",\n",
    "    agent_name=agent_name\n",
    ")\n",
    "\n",
    "print(\"AgentCore configuration response:\")\n",
    "print(response)"
   ]
  },
  {
   "cell_type": "markdown",
   "id": "16567256",
   "metadata": {},
   "source": [
    "### Deploy the configuration"
   ]
  },
  {
   "cell_type": "code",
   "execution_count": null,
   "id": "2ce6d5f7",
   "metadata": {},
   "outputs": [],
   "source": [
    "launch_result = agentcore_runtime.launch()\n"
   ]
  },
  {
   "cell_type": "markdown",
   "id": "2dc4dfc9",
   "metadata": {},
   "source": [
    "### Check for the status of the deployment"
   ]
  },
  {
   "cell_type": "code",
   "execution_count": null,
   "id": "747f9ec1",
   "metadata": {},
   "outputs": [],
   "source": [
    "import time\n",
    "status_response = agentcore_runtime.status()\n",
    "status = status_response.endpoint['status']\n",
    "end_status = ['READY', 'CREATE_FAILED', 'DELETE_FAILED', 'UPDATE_FAILED']\n",
    "while status not in end_status:\n",
    "    time.sleep(10)\n",
    "    status_response = agentcore_runtime.status()\n",
    "    status = status_response.endpoint['status']\n",
    "    print(status)\n",
    "status"
   ]
  },
  {
   "cell_type": "code",
   "execution_count": null,
   "id": "dcb36100",
   "metadata": {},
   "outputs": [],
   "source": [
    "from IPython.display import Markdown, display\n",
    "import json\n",
    "\n",
    "invoke_response = agentcore_runtime.invoke({\"prompt\": \"Whats the btc price today\"})\n",
    "response_text = invoke_response['response'][0]\n",
    "display(Markdown(response_text))"
   ]
  }
 ],
 "metadata": {
  "kernelspec": {
   "display_name": "Python 3",
   "language": "python",
   "name": "python3"
  },
  "language_info": {
   "codemirror_mode": {
    "name": "ipython",
    "version": 3
   },
   "file_extension": ".py",
   "mimetype": "text/x-python",
   "name": "python",
   "nbconvert_exporter": "python",
   "pygments_lexer": "ipython3",
   "version": "3.11.9"
  }
 },
 "nbformat": 4,
 "nbformat_minor": 5
}
