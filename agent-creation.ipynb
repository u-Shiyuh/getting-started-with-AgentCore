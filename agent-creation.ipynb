{
 "cells": [
  {
   "cell_type": "code",
   "execution_count": null,
   "id": "44179a4a",
   "metadata": {},
   "outputs": [
    {
     "name": "stderr",
     "output_type": "stream",
     "text": [
      "Entrypoint parsed: file=C:\\Users\\machupichu\\Desktop\\Repo\\agentcore\\langgraph_bedrock.py, bedrock_agentcore_name=langgraph_bedrock\n"
     ]
    },
    {
     "name": "stderr",
     "output_type": "stream",
     "text": [
      "Configuring BedrockAgentCore agent: langgraph_claude_getting_started\n"
     ]
    },
    {
     "data": {
      "text/html": [
       "<pre style=\"white-space:pre;overflow-x:auto;line-height:normal;font-family:Menlo,'DejaVu Sans Mono',consolas,'Courier New',monospace\">\n",
       "<span style=\"color: #808000; text-decoration-color: #808000; font-weight: bold; text-decoration: underline\">⚠️  ℹ️  No container engine found (Docker/Finch/Podman not installed)</span>\n",
       "<span style=\"color: #808000; text-decoration-color: #808000; font-weight: bold; text-decoration: underline\">✅ Default deployment uses CodeBuild (no container engine needed)</span>\n",
       "<span style=\"color: #808000; text-decoration-color: #808000; font-weight: bold; text-decoration: underline\">💡 Run </span><span style=\"color: #008000; text-decoration-color: #008000; text-decoration: underline\">'agentcore launch'</span><span style=\"color: #808000; text-decoration-color: #808000; font-weight: bold; text-decoration: underline\"> for cloud-based building and deployment</span>\n",
       "<span style=\"color: #808000; text-decoration-color: #808000; font-weight: bold; text-decoration: underline\">💡 For local builds, install Docker, Finch, or Podman</span>\n",
       "</pre>\n"
      ],
      "text/plain": [
       "\n",
       "\u001b[1;4;33m⚠️  ℹ️  No container engine found \u001b[0m\u001b[1;4;33m(\u001b[0m\u001b[1;4;33mDocker/Finch/Podman not installed\u001b[0m\u001b[1;4;33m)\u001b[0m\n",
       "\u001b[1;4;33m✅ Default deployment uses CodeBuild \u001b[0m\u001b[1;4;33m(\u001b[0m\u001b[1;4;33mno container engine needed\u001b[0m\u001b[1;4;33m)\u001b[0m\n",
       "\u001b[1;4;33m💡 Run \u001b[0m\u001b[4;32m'agentcore launch'\u001b[0m\u001b[1;4;33m for cloud-based building and deployment\u001b[0m\n",
       "\u001b[1;4;33m💡 For local builds, install Docker, Finch, or Podman\u001b[0m\n"
      ]
     },
     "metadata": {},
     "output_type": "display_data"
    },
    {
     "data": {
      "text/html": [
       "<pre style=\"white-space:pre;overflow-x:auto;line-height:normal;font-family:Menlo,'DejaVu Sans Mono',consolas,'Courier New',monospace\">\n",
       "<span style=\"color: #808000; text-decoration-color: #808000; font-weight: bold; text-decoration: underline\">⚠️  [WARNING] Platform mismatch: Current system is </span><span style=\"color: #008000; text-decoration-color: #008000; text-decoration: underline\">'linux/amd64'</span><span style=\"color: #808000; text-decoration-color: #808000; font-weight: bold; text-decoration: underline\"> but Bedrock AgentCore requires </span><span style=\"color: #008000; text-decoration-color: #008000; text-decoration: underline\">'linux/arm64'</span><span style=\"color: #808000; text-decoration-color: #808000; font-weight: bold; text-decoration: underline\">.</span>\n",
       "<span style=\"color: #808000; text-decoration-color: #808000; font-weight: bold; text-decoration: underline\">For deployment options and workarounds, see: </span>\n",
       "<span style=\"color: #0000ff; text-decoration-color: #0000ff; text-decoration: underline\">https://docs.aws.amazon.com/bedrock-agentcore/latest/devguide/getting-started-custom.html</span>\n",
       "\n",
       "</pre>\n"
      ],
      "text/plain": [
       "\n",
       "\u001b[1;4;33m⚠️  \u001b[0m\u001b[1;4;33m[\u001b[0m\u001b[1;4;33mWARNING\u001b[0m\u001b[1;4;33m]\u001b[0m\u001b[1;4;33m Platform mismatch: Current system is \u001b[0m\u001b[4;32m'linux/amd64'\u001b[0m\u001b[1;4;33m but Bedrock AgentCore requires \u001b[0m\u001b[4;32m'linux/arm64'\u001b[0m\u001b[1;4;33m.\u001b[0m\n",
       "\u001b[1;4;33mFor deployment options and workarounds, see: \u001b[0m\n",
       "\u001b[4;94mhttps://docs.aws.amazon.com/bedrock-agentcore/latest/devguide/getting-started-custom.html\u001b[0m\n",
       "\n"
      ]
     },
     "metadata": {},
     "output_type": "display_data"
    },
    {
     "name": "stderr",
     "output_type": "stream",
     "text": [
      "Generated Dockerfile: c:\\Users\\machupichu\\Desktop\\Repo\\agentcore\\Dockerfile\n",
      "Generated .dockerignore: c:\\Users\\machupichu\\Desktop\\Repo\\agentcore\\.dockerignore\n",
      "Keeping 'langgraph_claude_getting_started' as default agent\n",
      "Bedrock AgentCore configured: c:\\Users\\machupichu\\Desktop\\Repo\\agentcore\\.bedrock_agentcore.yaml\n"
     ]
    },
    {
     "name": "stdout",
     "output_type": "stream",
     "text": [
      "AgentCore configuration response:\n",
      "config_path=WindowsPath('c:/Users/machupichu/Desktop/Repo/agentcore/.bedrock_agentcore.yaml') dockerfile_path=WindowsPath('c:/Users/machupichu/Desktop/Repo/agentcore/Dockerfile') dockerignore_path=WindowsPath('c:/Users/machupichu/Desktop/Repo/agentcore/.dockerignore') runtime='None' region='us-east-1' account_id='376945888930' execution_role=None ecr_repository=None auto_create_ecr=True\n"
     ]
    }
   ],
   "source": [
    "import os\n",
    "from bedrock_agentcore_starter_toolkit import Runtime\n",
    "\n",
    "# 1. Clear any old AWS credentials\n",
    "os.environ.pop(\"AWS_ACCESS_KEY_ID\", None)\n",
    "os.environ.pop(\"AWS_SECRET_ACCESS_KEY\", None)\n",
    "os.environ.pop(\"AWS_SESSION_TOKEN\", None)\n",
    "\n",
    "# 2. Set your SSO profile, here I'm utilizing aws sso login\n",
    "os.environ[\"AWS_PROFILE\"] = \"sandbox\"  \n",
    "\n",
    "\n",
    "# 4. Initialize Runtime\n",
    "agentcore_runtime = Runtime()\n",
    "\n",
    "# 5. Configure the agent\n",
    "agent_name = \"ticker-checker-agent\"\n",
    "response = agentcore_runtime.configure(\n",
    "    entrypoint=\"langgraph_bedrock.py\", \n",
    "    auto_create_execution_role=True,\n",
    "    auto_create_ecr=True,\n",
    "    requirements_file=\"requirements.txt\",\n",
    "    region=\"us-east-1\",\n",
    "    agent_name=agent_name\n",
    ")\n",
    "\n",
    "print(\"AgentCore configuration response:\")\n",
    "print(response)"
   ]
  },
  {
   "cell_type": "code",
   "execution_count": 13,
   "id": "2ce6d5f7",
   "metadata": {},
   "outputs": [
    {
     "name": "stderr",
     "output_type": "stream",
     "text": [
      "🚀 CodeBuild mode: building in cloud (RECOMMENDED - DEFAULT)\n",
      "   • Build ARM64 containers in the cloud with CodeBuild\n",
      "   • No local Docker required\n",
      "💡 Available deployment modes:\n",
      "   • runtime.launch()                           → CodeBuild (current)\n",
      "   • runtime.launch(local=True)                 → Local development\n",
      "   • runtime.launch(local_build=True)           → Local build + cloud deploy (NEW)\n",
      "Starting CodeBuild ARM64 deployment for agent 'langgraph_claude_getting_started' to account 376945888930 (us-east-1)\n",
      "Setting up AWS resources (ECR repository, execution roles)...\n",
      "Getting or creating ECR repository for agent: langgraph_claude_getting_started\n",
      "✅ ECR repository available: 376945888930.dkr.ecr.us-east-1.amazonaws.com/bedrock-agentcore-langgraph_claude_getting_started\n"
     ]
    },
    {
     "name": "stdout",
     "output_type": "stream",
     "text": [
      "✅ Reusing existing ECR repository: 376945888930.dkr.ecr.us-east-1.amazonaws.com/bedrock-agentcore-langgraph_claude_getting_started\n"
     ]
    },
    {
     "name": "stderr",
     "output_type": "stream",
     "text": [
      "Getting or creating execution role for agent: langgraph_claude_getting_started\n",
      "Using AWS region: us-east-1, account ID: 376945888930\n",
      "Role name: AmazonBedrockAgentCoreSDKRuntime-us-east-1-2292fc8165\n",
      "✅ Reusing existing execution role: arn:aws:iam::376945888930:role/AmazonBedrockAgentCoreSDKRuntime-us-east-1-2292fc8165\n",
      "✅ Execution role available: arn:aws:iam::376945888930:role/AmazonBedrockAgentCoreSDKRuntime-us-east-1-2292fc8165\n",
      "Preparing CodeBuild project and uploading source...\n",
      "Getting or creating CodeBuild execution role for agent: langgraph_claude_getting_started\n",
      "Role name: AmazonBedrockAgentCoreSDKCodeBuild-us-east-1-2292fc8165\n",
      "Reusing existing CodeBuild execution role: arn:aws:iam::376945888930:role/AmazonBedrockAgentCoreSDKCodeBuild-us-east-1-2292fc8165\n",
      "Using .dockerignore with 44 patterns\n",
      "Uploaded source to S3: langgraph_claude_getting_started/source.zip\n",
      "Updated CodeBuild project: bedrock-agentcore-langgraph_claude_getting_started-builder\n",
      "Starting CodeBuild build (this may take several minutes)...\n",
      "Starting CodeBuild monitoring...\n",
      "🔄 QUEUED started (total: 0s)\n",
      "✅ QUEUED completed in 1.3s\n",
      "🔄 PROVISIONING started (total: 2s)\n",
      "✅ PROVISIONING completed in 8.9s\n",
      "🔄 DOWNLOAD_SOURCE started (total: 10s)\n",
      "✅ DOWNLOAD_SOURCE completed in 1.3s\n",
      "🔄 BUILD started (total: 12s)\n",
      "✅ BUILD completed in 17.8s\n",
      "🔄 POST_BUILD started (total: 30s)\n",
      "✅ POST_BUILD completed in 14.0s\n",
      "🔄 COMPLETED started (total: 43s)\n",
      "✅ COMPLETED completed in 1.3s\n",
      "🎉 CodeBuild completed successfully in 0m 44s\n",
      "CodeBuild completed successfully\n",
      "✅ CodeBuild project configuration saved\n",
      "Deploying to Bedrock AgentCore...\n",
      "⚠️ Session ID will be reset to connect to the updated agent. The previous agent remains accessible via the original session ID: 6f244829-5b88-4016-a3ee-e2b4cbe55d40\n",
      "✅ Agent created/updated: arn:aws:bedrock-agentcore:us-east-1:376945888930:runtime/langgraph_claude_getting_started-IQOqbL5C0U\n",
      "Observability is enabled, configuring Transaction Search...\n",
      "CloudWatch Logs resource policy already configured\n",
      "X-Ray trace destination already configured\n",
      "X-Ray indexing rule already configured\n",
      "✅ Transaction Search already fully configured\n",
      "🔍 GenAI Observability Dashboard:\n",
      "   https://console.aws.amazon.com/cloudwatch/home?region=us-east-1#gen-ai-observability/agent-core\n",
      "Polling for endpoint to be ready...\n",
      "Agent endpoint: arn:aws:bedrock-agentcore:us-east-1:376945888930:runtime/langgraph_claude_getting_started-IQOqbL5C0U/runtime-endpoint/DEFAULT\n",
      "Deployment completed successfully - Agent: arn:aws:bedrock-agentcore:us-east-1:376945888930:runtime/langgraph_claude_getting_started-IQOqbL5C0U\n",
      "Built with CodeBuild: bedrock-agentcore-langgraph_claude_getting_started-builder:39de1dba-9ad3-4305-93e3-ca93de2ec251\n",
      "Deployed to cloud: arn:aws:bedrock-agentcore:us-east-1:376945888930:runtime/langgraph_claude_getting_started-IQOqbL5C0U\n",
      "ECR image: 376945888930.dkr.ecr.us-east-1.amazonaws.com/bedrock-agentcore-langgraph_claude_getting_started\n",
      "🔍 Agent logs available at:\n",
      "   /aws/bedrock-agentcore/runtimes/langgraph_claude_getting_started-IQOqbL5C0U-DEFAULT --log-stream-name-prefix \"2025/10/27/\\[runtime-logs]\"\n",
      "   /aws/bedrock-agentcore/runtimes/langgraph_claude_getting_started-IQOqbL5C0U-DEFAULT --log-stream-names \"otel-rt-logs\"\n",
      "💡 Tail logs with: aws logs tail /aws/bedrock-agentcore/runtimes/langgraph_claude_getting_started-IQOqbL5C0U-DEFAULT --log-stream-name-prefix \"2025/10/27/\\[runtime-logs]\" --follow\n",
      "💡 Or view recent logs: aws logs tail /aws/bedrock-agentcore/runtimes/langgraph_claude_getting_started-IQOqbL5C0U-DEFAULT --log-stream-name-prefix \"2025/10/27/\\[runtime-logs]\" --since 1h\n"
     ]
    }
   ],
   "source": [
    "launch_result = agentcore_runtime.launch()\n"
   ]
  },
  {
   "cell_type": "code",
   "execution_count": 6,
   "id": "747f9ec1",
   "metadata": {},
   "outputs": [
    {
     "name": "stderr",
     "output_type": "stream",
     "text": [
      "Retrieved Bedrock AgentCore status for: langgraph_claude_getting_started\n"
     ]
    },
    {
     "data": {
      "text/plain": [
       "'READY'"
      ]
     },
     "execution_count": 6,
     "metadata": {},
     "output_type": "execute_result"
    }
   ],
   "source": [
    "import time\n",
    "status_response = agentcore_runtime.status()\n",
    "status = status_response.endpoint['status']\n",
    "end_status = ['READY', 'CREATE_FAILED', 'DELETE_FAILED', 'UPDATE_FAILED']\n",
    "while status not in end_status:\n",
    "    time.sleep(10)\n",
    "    status_response = agentcore_runtime.status()\n",
    "    status = status_response.endpoint['status']\n",
    "    print(status)\n",
    "status"
   ]
  },
  {
   "cell_type": "code",
   "execution_count": 14,
   "id": "dcb36100",
   "metadata": {},
   "outputs": [
    {
     "data": {
      "text/plain": [
       "{'ResponseMetadata': {'RequestId': '9fb26993-5102-4710-a10b-a02f74694d76',\n",
       "  'HTTPStatusCode': 200,\n",
       "  'HTTPHeaders': {'date': 'Mon, 27 Oct 2025 13:04:52 GMT',\n",
       "   'content-type': 'application/json',\n",
       "   'transfer-encoding': 'chunked',\n",
       "   'connection': 'keep-alive',\n",
       "   'x-amzn-requestid': '9fb26993-5102-4710-a10b-a02f74694d76',\n",
       "   'baggage': 'Self=1-68ff6def-08c466482ed56c5f480f0987,session.id=c96cd2d3-0200-4aaf-9709-3a6889298713',\n",
       "   'x-amzn-bedrock-agentcore-runtime-session-id': 'c96cd2d3-0200-4aaf-9709-3a6889298713',\n",
       "   'x-amzn-trace-id': 'Root=1-68ff6def-7558683849c8e9666b3217db;Parent=9b993e19f4286a66;Sampled=1;Self=1-68ff6def-08c466482ed56c5f480f0987'},\n",
       "  'RetryAttempts': 0},\n",
       " 'runtimeSessionId': 'c96cd2d3-0200-4aaf-9709-3a6889298713',\n",
       " 'traceId': 'Root=1-68ff6def-7558683849c8e9666b3217db;Parent=9b993e19f4286a66;Sampled=1;Self=1-68ff6def-08c466482ed56c5f480f0987',\n",
       " 'baggage': 'Self=1-68ff6def-08c466482ed56c5f480f0987,session.id=c96cd2d3-0200-4aaf-9709-3a6889298713',\n",
       " 'contentType': 'application/json',\n",
       " 'statusCode': 200,\n",
       " 'response': [\"I apologize, but it seems there's a technical issue with the tool that fetches the Bitcoin price. The system is unable to connect to the price data source at the moment.\\n\\nWould you like me to try again, or is there something else I can help you with today?\"]}"
      ]
     },
     "execution_count": 14,
     "metadata": {},
     "output_type": "execute_result"
    }
   ],
   "source": [
    "invoke_response = agentcore_runtime.invoke({\"prompt\": \"Whats the btc price today\"})\n",
    "invoke_response"
   ]
  },
  {
   "cell_type": "code",
   "execution_count": 15,
   "id": "78ac598b",
   "metadata": {},
   "outputs": [
    {
     "data": {
      "text/markdown": [
       "I apologize, but it seems there's a technical issue with the tool that fetches the Bitcoin price. The system is unable to connect to the price data source at the moment.\n",
       "\n",
       "Would you like me to try again, or is there something else I can help you with today?"
      ],
      "text/plain": [
       "<IPython.core.display.Markdown object>"
      ]
     },
     "metadata": {},
     "output_type": "display_data"
    }
   ],
   "source": [
    "from IPython.display import Markdown, display\n",
    "import json\n",
    "response_text = invoke_response['response'][0]\n",
    "display(Markdown(response_text))"
   ]
  },
  {
   "cell_type": "code",
   "execution_count": 9,
   "id": "8c7a57d6",
   "metadata": {},
   "outputs": [
    {
     "data": {
      "text/markdown": [
       "The current weather is sunny! It's a beautiful day outside."
      ],
      "text/plain": [
       "<IPython.core.display.Markdown object>"
      ]
     },
     "metadata": {},
     "output_type": "display_data"
    }
   ],
   "source": [
    "import boto3\n",
    "agent_arn = launch_result.agent_arn\n",
    "agentcore_client = boto3.client(\n",
    "    'bedrock-agentcore',\n",
    "    region_name=\"us-east-1\"\n",
    ")\n",
    "\n",
    "boto3_response = agentcore_client.invoke_agent_runtime(\n",
    "    agentRuntimeArn=agent_arn,\n",
    "    qualifier=\"DEFAULT\",\n",
    "    payload=json.dumps({\"prompt\": \"What is the weather now?\"})\n",
    ")\n",
    "if \"text/event-stream\" in boto3_response.get(\"contentType\", \"\"):\n",
    "    content = []\n",
    "    for line in boto3_response[\"response\"].iter_lines(chunk_size=1):\n",
    "        if line:\n",
    "            line = line.decode(\"utf-8\")\n",
    "            if line.startswith(\"data: \"):\n",
    "                line = line[6:]\n",
    "                print(line)\n",
    "                content.append(line)\n",
    "    display(Markdown(\"\\n\".join(content)))\n",
    "else:\n",
    "    try:\n",
    "        events = []\n",
    "        for event in boto3_response.get(\"response\", []):\n",
    "            events.append(event)\n",
    "    except Exception as e:\n",
    "        events = [f\"Error reading EventStream: {e}\"]\n",
    "    display(Markdown(json.loads(events[0].decode(\"utf-8\"))))"
   ]
  },
  {
   "cell_type": "code",
   "execution_count": 10,
   "id": "b675a82d",
   "metadata": {},
   "outputs": [
    {
     "data": {
      "text/plain": [
       "('376945888930.dkr.ecr.us-east-1.amazonaws.com/bedrock-agentcore-langgraph_claude_getting_started',\n",
       " 'langgraph_claude_getting_started-IQOqbL5C0U',\n",
       " 'bedrock-agentcore-langgraph_claude_getting_started')"
      ]
     },
     "execution_count": 10,
     "metadata": {},
     "output_type": "execute_result"
    }
   ],
   "source": [
    "launch_result.ecr_uri, launch_result.agent_id, launch_result.ecr_uri.split('/')[1]\n"
   ]
  },
  {
   "cell_type": "code",
   "execution_count": null,
   "id": "815771cc",
   "metadata": {},
   "outputs": [],
   "source": []
  }
 ],
 "metadata": {
  "kernelspec": {
   "display_name": "Python 3",
   "language": "python",
   "name": "python3"
  },
  "language_info": {
   "codemirror_mode": {
    "name": "ipython",
    "version": 3
   },
   "file_extension": ".py",
   "mimetype": "text/x-python",
   "name": "python",
   "nbconvert_exporter": "python",
   "pygments_lexer": "ipython3",
   "version": "3.11.9"
  }
 },
 "nbformat": 4,
 "nbformat_minor": 5
}
